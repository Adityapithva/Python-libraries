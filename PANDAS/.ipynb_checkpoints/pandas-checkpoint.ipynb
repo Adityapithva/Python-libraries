{
 "cells": [
  {
   "cell_type": "code",
   "execution_count": 34,
   "id": "06dcde7e-2679-4406-b83f-94285d7afed9",
   "metadata": {},
   "outputs": [],
   "source": [
    "import pandas as pd\n",
    "import numpy as np"
   ]
  },
  {
   "cell_type": "code",
   "execution_count": 5,
   "id": "3651737c-1ecd-4e38-9f25-eacdc5a14ff7",
   "metadata": {},
   "outputs": [
    {
     "data": {
      "text/plain": [
       "0    1\n",
       "1    2\n",
       "2    3\n",
       "3    4\n",
       "4    5\n",
       "dtype: int64"
      ]
     },
     "execution_count": 5,
     "metadata": {},
     "output_type": "execute_result"
    }
   ],
   "source": [
    "s = pd.Series([1,2,3,4,5])\n",
    "s"
   ]
  },
  {
   "cell_type": "code",
   "execution_count": 3,
   "id": "9a793265-94c5-408f-a8eb-84d07fd725c7",
   "metadata": {},
   "outputs": [
    {
     "data": {
      "text/plain": [
       "dtype('int64')"
      ]
     },
     "execution_count": 3,
     "metadata": {},
     "output_type": "execute_result"
    }
   ],
   "source": [
    "s.dtype"
   ]
  },
  {
   "cell_type": "code",
   "execution_count": 4,
   "id": "cd943a0f-6c7d-4e68-aa4a-de14a91c9405",
   "metadata": {},
   "outputs": [
    {
     "data": {
      "text/plain": [
       "array([1, 2, 3, 4, 5], dtype=int64)"
      ]
     },
     "execution_count": 4,
     "metadata": {},
     "output_type": "execute_result"
    }
   ],
   "source": [
    "s.values"
   ]
  },
  {
   "cell_type": "code",
   "execution_count": 6,
   "id": "f1ba34d4-f147-43e8-8202-a91b0067b971",
   "metadata": {},
   "outputs": [
    {
     "data": {
      "text/plain": [
       "RangeIndex(start=0, stop=5, step=1)"
      ]
     },
     "execution_count": 6,
     "metadata": {},
     "output_type": "execute_result"
    }
   ],
   "source": [
    "s.index"
   ]
  },
  {
   "cell_type": "code",
   "execution_count": 13,
   "id": "1ded8c29-0bc2-4c2d-9525-3fbaa973def0",
   "metadata": {},
   "outputs": [
    {
     "data": {
      "text/plain": [
       "0    1\n",
       "1    2\n",
       "2    3\n",
       "3    4\n",
       "4    5\n",
       "Name: calories, dtype: int64"
      ]
     },
     "execution_count": 13,
     "metadata": {},
     "output_type": "execute_result"
    }
   ],
   "source": [
    "s.name = 'calories'\n",
    "s"
   ]
  },
  {
   "cell_type": "markdown",
   "id": "10f431f2-19c6-40d9-a799-c0666718886b",
   "metadata": {},
   "source": [
    "<h2>Indexing</h2>"
   ]
  },
  {
   "cell_type": "code",
   "execution_count": 8,
   "id": "d5302ac6-950f-41e2-a241-e4bf7b2b9145",
   "metadata": {},
   "outputs": [
    {
     "data": {
      "text/plain": [
       "1"
      ]
     },
     "execution_count": 8,
     "metadata": {},
     "output_type": "execute_result"
    }
   ],
   "source": [
    "s[0]"
   ]
  },
  {
   "cell_type": "code",
   "execution_count": 9,
   "id": "eecd3833-9196-409e-bc28-7a84d77b66b4",
   "metadata": {},
   "outputs": [
    {
     "data": {
      "text/plain": [
       "0    1\n",
       "1    2\n",
       "Name: numbers, dtype: int64"
      ]
     },
     "execution_count": 9,
     "metadata": {},
     "output_type": "execute_result"
    }
   ],
   "source": [
    "s[0:2]"
   ]
  },
  {
   "cell_type": "code",
   "execution_count": 10,
   "id": "d6f11296-d04c-430c-83e9-e42a5beb56d7",
   "metadata": {},
   "outputs": [
    {
     "data": {
      "text/plain": [
       "2    3\n",
       "3    4\n",
       "Name: numbers, dtype: int64"
      ]
     },
     "execution_count": 10,
     "metadata": {},
     "output_type": "execute_result"
    }
   ],
   "source": [
    "s[2:4]"
   ]
  },
  {
   "cell_type": "code",
   "execution_count": 11,
   "id": "f4e7a47c-ff5d-464d-bc9b-6e85683ae41a",
   "metadata": {},
   "outputs": [
    {
     "data": {
      "text/plain": [
       "4"
      ]
     },
     "execution_count": 11,
     "metadata": {},
     "output_type": "execute_result"
    }
   ],
   "source": [
    "#iloc -> location based indexing\n",
    "s.iloc[3]"
   ]
  },
  {
   "cell_type": "code",
   "execution_count": 12,
   "id": "84f2f23f-1cdc-46bd-8cae-5e2d2e8e7c60",
   "metadata": {},
   "outputs": [
    {
     "data": {
      "text/plain": [
       "1    2\n",
       "3    4\n",
       "4    5\n",
       "Name: numbers, dtype: int64"
      ]
     },
     "execution_count": 12,
     "metadata": {},
     "output_type": "execute_result"
    }
   ],
   "source": [
    "s.iloc[[1,3,4]]"
   ]
  },
  {
   "cell_type": "code",
   "execution_count": 15,
   "id": "f866c9de-6cc7-4d97-920f-ddb5e01bb0f7",
   "metadata": {},
   "outputs": [
    {
     "data": {
      "text/plain": [
       "apple         1\n",
       "bannana       2\n",
       "grapes        3\n",
       "orange        4\n",
       "strawberry    5\n",
       "Name: calories, dtype: int64"
      ]
     },
     "execution_count": 15,
     "metadata": {},
     "output_type": "execute_result"
    }
   ],
   "source": [
    "index = ['apple','bannana','grapes','orange','strawberry']\n",
    "s.index =index\n",
    "s"
   ]
  },
  {
   "cell_type": "code",
   "execution_count": 16,
   "id": "0ef0970b-6a71-4a83-b706-4f7a28b6aaca",
   "metadata": {},
   "outputs": [
    {
     "data": {
      "text/plain": [
       "3"
      ]
     },
     "execution_count": 16,
     "metadata": {},
     "output_type": "execute_result"
    }
   ],
   "source": [
    "s['grapes']"
   ]
  },
  {
   "cell_type": "code",
   "execution_count": 17,
   "id": "a20c31a0-4ff1-467f-8220-7e0d852977be",
   "metadata": {},
   "outputs": [
    {
     "data": {
      "text/plain": [
       "3"
      ]
     },
     "execution_count": 17,
     "metadata": {},
     "output_type": "execute_result"
    }
   ],
   "source": [
    "#loc -> label based indexing,start and stop both are included\n",
    "s.loc['grapes']"
   ]
  },
  {
   "cell_type": "code",
   "execution_count": 18,
   "id": "d93988f2-43b7-4275-a0e0-68f2e99da847",
   "metadata": {},
   "outputs": [
    {
     "data": {
      "text/plain": [
       "bannana    2\n",
       "grapes     3\n",
       "orange     4\n",
       "Name: calories, dtype: int64"
      ]
     },
     "execution_count": 18,
     "metadata": {},
     "output_type": "execute_result"
    }
   ],
   "source": [
    "s['bannana':'orange']"
   ]
  },
  {
   "cell_type": "code",
   "execution_count": 20,
   "id": "c01bb242-138f-4bc9-bde4-eebd557daf8a",
   "metadata": {},
   "outputs": [
    {
     "data": {
      "text/plain": [
       "Avocado         2.0\n",
       "Guava           2.6\n",
       "Blackberries    2.0\n",
       "Oranges         0.9\n",
       "Banana          1.1\n",
       "Apples          0.3\n",
       "Strawberries    0.8\n",
       "Raspberries     1.5\n",
       "Pineapple       0.5\n",
       "Mango           0.8\n",
       "Blueberries     0.7\n",
       "Pomegranate     1.7\n",
       "Papaya          0.5\n",
       "Watermelon      0.6\n",
       "Cantaloupe      0.8\n",
       "Cherries        1.0\n",
       "Kiwi            1.1\n",
       "Grapes          0.6\n",
       "Peach           0.9\n",
       "Pear            0.4\n",
       "dtype: float64"
      ]
     },
     "execution_count": 20,
     "metadata": {},
     "output_type": "execute_result"
    }
   ],
   "source": [
    "fruit_protein = {\n",
    "    \"Avocado\": 2.0,      \n",
    "    \"Guava\": 2.6,\n",
    "    \"Blackberries\": 2.0,\n",
    "    \"Oranges\": 0.9,\n",
    "    \"Banana\": 1.1,\n",
    "    \"Apples\": 0.3,\n",
    "    \"Strawberries\": 0.8,\n",
    "    \"Raspberries\": 1.5,\n",
    "    \"Pineapple\": 0.5,\n",
    "    \"Mango\": 0.8,\n",
    "    \"Blueberries\": 0.7,\n",
    "    \"Pomegranate\": 1.7,\n",
    "    \"Papaya\": 0.5,\n",
    "    \"Watermelon\": 0.6,\n",
    "    \"Cantaloupe\": 0.8,\n",
    "    \"Cherries\": 1.0,\n",
    "    \"Kiwi\": 1.1,\n",
    "    \"Grapes\": 0.6,\n",
    "    \"Peach\": 0.9,\n",
    "    \"Pear\": 0.4\n",
    "}\n",
    "s2 = pd.Series(fruit_protein)\n",
    "s2"
   ]
  },
  {
   "cell_type": "code",
   "execution_count": 21,
   "id": "fc5d004b-3fc5-4d82-bec5-a956119c12ed",
   "metadata": {},
   "outputs": [],
   "source": [
    "s2.name = 'Proteins'"
   ]
  },
  {
   "cell_type": "code",
   "execution_count": 22,
   "id": "bc01bb8e-d293-4763-a5c0-96d79a20d62d",
   "metadata": {},
   "outputs": [
    {
     "data": {
      "text/plain": [
       "Avocado         2.0\n",
       "Guava           2.6\n",
       "Blackberries    2.0\n",
       "Oranges         0.9\n",
       "Banana          1.1\n",
       "Apples          0.3\n",
       "Strawberries    0.8\n",
       "Raspberries     1.5\n",
       "Pineapple       0.5\n",
       "Mango           0.8\n",
       "Blueberries     0.7\n",
       "Pomegranate     1.7\n",
       "Papaya          0.5\n",
       "Watermelon      0.6\n",
       "Cantaloupe      0.8\n",
       "Cherries        1.0\n",
       "Kiwi            1.1\n",
       "Grapes          0.6\n",
       "Peach           0.9\n",
       "Pear            0.4\n",
       "Name: Proteins, dtype: float64"
      ]
     },
     "execution_count": 22,
     "metadata": {},
     "output_type": "execute_result"
    }
   ],
   "source": [
    "s2"
   ]
  },
  {
   "cell_type": "markdown",
   "id": "068d43c1-f547-4d65-ae09-c58aa9cec811",
   "metadata": {},
   "source": [
    "<h2>Conditional Selection</h2>"
   ]
  },
  {
   "cell_type": "code",
   "execution_count": 24,
   "id": "06ee9b84-3c75-4d18-9814-5e257ed84ec1",
   "metadata": {},
   "outputs": [
    {
     "data": {
      "text/plain": [
       "Avocado         2.0\n",
       "Guava           2.6\n",
       "Blackberries    2.0\n",
       "Banana          1.1\n",
       "Raspberries     1.5\n",
       "Pomegranate     1.7\n",
       "Kiwi            1.1\n",
       "Name: Proteins, dtype: float64"
      ]
     },
     "execution_count": 24,
     "metadata": {},
     "output_type": "execute_result"
    }
   ],
   "source": [
    "s2[s2>1]"
   ]
  },
  {
   "cell_type": "markdown",
   "id": "07dcf8b6-a064-45da-a6bd-8f674edcb14a",
   "metadata": {},
   "source": [
    "<h2>Logical Operators</h2>"
   ]
  },
  {
   "cell_type": "code",
   "execution_count": 27,
   "id": "68faff55-e582-4cab-b40d-c2eb7239248f",
   "metadata": {},
   "outputs": [
    {
     "data": {
      "text/plain": [
       "Oranges         0.9\n",
       "Banana          1.1\n",
       "Strawberries    0.8\n",
       "Raspberries     1.5\n",
       "Mango           0.8\n",
       "Blueberries     0.7\n",
       "Pomegranate     1.7\n",
       "Watermelon      0.6\n",
       "Cantaloupe      0.8\n",
       "Cherries        1.0\n",
       "Kiwi            1.1\n",
       "Grapes          0.6\n",
       "Peach           0.9\n",
       "Name: Proteins, dtype: float64"
      ]
     },
     "execution_count": 27,
     "metadata": {},
     "output_type": "execute_result"
    }
   ],
   "source": [
    "s2[(s2>0.5) & (s2<2)]"
   ]
  },
  {
   "cell_type": "code",
   "execution_count": 28,
   "id": "ad74e289-7075-4f0d-94c2-184b42912dae",
   "metadata": {},
   "outputs": [
    {
     "data": {
      "text/plain": [
       "Avocado         2.0\n",
       "Guava           2.6\n",
       "Blackberries    2.0\n",
       "Oranges         0.9\n",
       "Banana          1.1\n",
       "Apples          0.3\n",
       "Strawberries    0.8\n",
       "Raspberries     1.5\n",
       "Pineapple       0.5\n",
       "Mango           0.8\n",
       "Blueberries     0.7\n",
       "Pomegranate     1.7\n",
       "Papaya          0.5\n",
       "Watermelon      0.6\n",
       "Cantaloupe      0.8\n",
       "Cherries        1.0\n",
       "Kiwi            1.1\n",
       "Grapes          0.6\n",
       "Peach           0.9\n",
       "Pear            0.4\n",
       "Name: Proteins, dtype: float64"
      ]
     },
     "execution_count": 28,
     "metadata": {},
     "output_type": "execute_result"
    }
   ],
   "source": [
    "s2[(s2>0.5) | (s2<2)]"
   ]
  },
  {
   "cell_type": "code",
   "execution_count": 30,
   "id": "2660966d-bf42-4668-b7af-41cd8886a0d7",
   "metadata": {},
   "outputs": [
    {
     "data": {
      "text/plain": [
       "Oranges         0.9\n",
       "Apples          0.3\n",
       "Strawberries    0.8\n",
       "Pineapple       0.5\n",
       "Mango           0.8\n",
       "Blueberries     0.7\n",
       "Papaya          0.5\n",
       "Watermelon      0.6\n",
       "Cantaloupe      0.8\n",
       "Cherries        1.0\n",
       "Grapes          0.6\n",
       "Peach           0.9\n",
       "Pear            0.4\n",
       "Name: Proteins, dtype: float64"
      ]
     },
     "execution_count": 30,
     "metadata": {},
     "output_type": "execute_result"
    }
   ],
   "source": [
    "s2[~(s2>1)]"
   ]
  },
  {
   "cell_type": "markdown",
   "id": "908bd0bc-cd11-4a77-9066-9ee27993cfd1",
   "metadata": {},
   "source": [
    "<h2>Modifying a Series</h2>"
   ]
  },
  {
   "cell_type": "code",
   "execution_count": 32,
   "id": "fe19956e-abd1-407a-b8a2-81b95785a647",
   "metadata": {},
   "outputs": [
    {
     "data": {
      "text/plain": [
       "Avocado         2.0\n",
       "Guava           2.6\n",
       "Blackberries    2.0\n",
       "Oranges         0.9\n",
       "Banana          1.1\n",
       "Apples          0.3\n",
       "Strawberries    0.8\n",
       "Raspberries     1.5\n",
       "Pineapple       0.5\n",
       "Mango           2.8\n",
       "Blueberries     0.7\n",
       "Pomegranate     1.7\n",
       "Papaya          0.5\n",
       "Watermelon      0.6\n",
       "Cantaloupe      0.8\n",
       "Cherries        1.0\n",
       "Kiwi            1.1\n",
       "Grapes          0.6\n",
       "Peach           0.9\n",
       "Pear            0.4\n",
       "mango           2.8\n",
       "Name: Proteins, dtype: float64"
      ]
     },
     "execution_count": 32,
     "metadata": {},
     "output_type": "execute_result"
    }
   ],
   "source": [
    "s2['Mango'] = 2.8\n",
    "s2"
   ]
  },
  {
   "cell_type": "markdown",
   "id": "4dc8bc20-a75f-4253-b5ad-b0b66b0fd745",
   "metadata": {},
   "source": [
    "<h2>DataFrames</h2>"
   ]
  },
  {
   "cell_type": "code",
   "execution_count": 35,
   "id": "39a7b134-8dfa-4817-8eb1-a401e8055916",
   "metadata": {},
   "outputs": [
    {
     "data": {
      "text/plain": [
       "{'name': ['Alice',\n",
       "  'Bob',\n",
       "  'Charlie',\n",
       "  'Diana',\n",
       "  'Ethan',\n",
       "  'Fiona',\n",
       "  'George',\n",
       "  'Hannah'],\n",
       " 'age': [25, 30, 28, nan, 40, 26, 32, 29],\n",
       " 'salary': [50000, 60000, 55000, 75000, 80000, nan, 67000, 58000],\n",
       " 'dept': ['HR',\n",
       "  'Engineering',\n",
       "  'Sales',\n",
       "  'Marketing',\n",
       "  'Engineering',\n",
       "  'HR',\n",
       "  'Finance',\n",
       "  'Sales']}"
      ]
     },
     "execution_count": 35,
     "metadata": {},
     "output_type": "execute_result"
    }
   ],
   "source": [
    "data = {\n",
    "    \"name\": [\"Alice\", \"Bob\", \"Charlie\", \"Diana\", \"Ethan\", \"Fiona\", \"George\", \"Hannah\"],\n",
    "    \"age\": [25, 30, 28, np.nan, 40, 26, 32, 29],\n",
    "    \"salary\": [50000, 60000, 55000, 75000, 80000, np.nan, 67000, 58000],\n",
    "    \"dept\": [\"HR\", \"Engineering\", \"Sales\", \"Marketing\", \"Engineering\", \"HR\", \"Finance\", \"Sales\"]\n",
    "}\n",
    "data"
   ]
  },
  {
   "cell_type": "code",
   "execution_count": 36,
   "id": "3acb7fac-708e-441a-80b2-6f36f7de440e",
   "metadata": {},
   "outputs": [
    {
     "data": {
      "text/html": [
       "<div>\n",
       "<style scoped>\n",
       "    .dataframe tbody tr th:only-of-type {\n",
       "        vertical-align: middle;\n",
       "    }\n",
       "\n",
       "    .dataframe tbody tr th {\n",
       "        vertical-align: top;\n",
       "    }\n",
       "\n",
       "    .dataframe thead th {\n",
       "        text-align: right;\n",
       "    }\n",
       "</style>\n",
       "<table border=\"1\" class=\"dataframe\">\n",
       "  <thead>\n",
       "    <tr style=\"text-align: right;\">\n",
       "      <th></th>\n",
       "      <th>name</th>\n",
       "      <th>age</th>\n",
       "      <th>salary</th>\n",
       "      <th>dept</th>\n",
       "    </tr>\n",
       "  </thead>\n",
       "  <tbody>\n",
       "    <tr>\n",
       "      <th>0</th>\n",
       "      <td>Alice</td>\n",
       "      <td>25.0</td>\n",
       "      <td>50000.0</td>\n",
       "      <td>HR</td>\n",
       "    </tr>\n",
       "    <tr>\n",
       "      <th>1</th>\n",
       "      <td>Bob</td>\n",
       "      <td>30.0</td>\n",
       "      <td>60000.0</td>\n",
       "      <td>Engineering</td>\n",
       "    </tr>\n",
       "    <tr>\n",
       "      <th>2</th>\n",
       "      <td>Charlie</td>\n",
       "      <td>28.0</td>\n",
       "      <td>55000.0</td>\n",
       "      <td>Sales</td>\n",
       "    </tr>\n",
       "    <tr>\n",
       "      <th>3</th>\n",
       "      <td>Diana</td>\n",
       "      <td>NaN</td>\n",
       "      <td>75000.0</td>\n",
       "      <td>Marketing</td>\n",
       "    </tr>\n",
       "    <tr>\n",
       "      <th>4</th>\n",
       "      <td>Ethan</td>\n",
       "      <td>40.0</td>\n",
       "      <td>80000.0</td>\n",
       "      <td>Engineering</td>\n",
       "    </tr>\n",
       "    <tr>\n",
       "      <th>5</th>\n",
       "      <td>Fiona</td>\n",
       "      <td>26.0</td>\n",
       "      <td>NaN</td>\n",
       "      <td>HR</td>\n",
       "    </tr>\n",
       "    <tr>\n",
       "      <th>6</th>\n",
       "      <td>George</td>\n",
       "      <td>32.0</td>\n",
       "      <td>67000.0</td>\n",
       "      <td>Finance</td>\n",
       "    </tr>\n",
       "    <tr>\n",
       "      <th>7</th>\n",
       "      <td>Hannah</td>\n",
       "      <td>29.0</td>\n",
       "      <td>58000.0</td>\n",
       "      <td>Sales</td>\n",
       "    </tr>\n",
       "  </tbody>\n",
       "</table>\n",
       "</div>"
      ],
      "text/plain": [
       "      name   age   salary         dept\n",
       "0    Alice  25.0  50000.0           HR\n",
       "1      Bob  30.0  60000.0  Engineering\n",
       "2  Charlie  28.0  55000.0        Sales\n",
       "3    Diana   NaN  75000.0    Marketing\n",
       "4    Ethan  40.0  80000.0  Engineering\n",
       "5    Fiona  26.0      NaN           HR\n",
       "6   George  32.0  67000.0      Finance\n",
       "7   Hannah  29.0  58000.0        Sales"
      ]
     },
     "execution_count": 36,
     "metadata": {},
     "output_type": "execute_result"
    }
   ],
   "source": [
    "df = pd.DataFrame(data)\n",
    "df"
   ]
  },
  {
   "cell_type": "code",
   "execution_count": 37,
   "id": "9b06f430-e5cb-4eb4-acd8-00df0dbfbd90",
   "metadata": {},
   "outputs": [
    {
     "data": {
      "text/html": [
       "<div>\n",
       "<style scoped>\n",
       "    .dataframe tbody tr th:only-of-type {\n",
       "        vertical-align: middle;\n",
       "    }\n",
       "\n",
       "    .dataframe tbody tr th {\n",
       "        vertical-align: top;\n",
       "    }\n",
       "\n",
       "    .dataframe thead th {\n",
       "        text-align: right;\n",
       "    }\n",
       "</style>\n",
       "<table border=\"1\" class=\"dataframe\">\n",
       "  <thead>\n",
       "    <tr style=\"text-align: right;\">\n",
       "      <th></th>\n",
       "      <th>name</th>\n",
       "      <th>age</th>\n",
       "      <th>salary</th>\n",
       "      <th>dept</th>\n",
       "    </tr>\n",
       "  </thead>\n",
       "  <tbody>\n",
       "    <tr>\n",
       "      <th>0</th>\n",
       "      <td>Alice</td>\n",
       "      <td>25.0</td>\n",
       "      <td>50000.0</td>\n",
       "      <td>HR</td>\n",
       "    </tr>\n",
       "    <tr>\n",
       "      <th>1</th>\n",
       "      <td>Bob</td>\n",
       "      <td>30.0</td>\n",
       "      <td>60000.0</td>\n",
       "      <td>Engineering</td>\n",
       "    </tr>\n",
       "    <tr>\n",
       "      <th>2</th>\n",
       "      <td>Charlie</td>\n",
       "      <td>28.0</td>\n",
       "      <td>55000.0</td>\n",
       "      <td>Sales</td>\n",
       "    </tr>\n",
       "    <tr>\n",
       "      <th>3</th>\n",
       "      <td>Diana</td>\n",
       "      <td>NaN</td>\n",
       "      <td>75000.0</td>\n",
       "      <td>Marketing</td>\n",
       "    </tr>\n",
       "    <tr>\n",
       "      <th>4</th>\n",
       "      <td>Ethan</td>\n",
       "      <td>40.0</td>\n",
       "      <td>80000.0</td>\n",
       "      <td>Engineering</td>\n",
       "    </tr>\n",
       "  </tbody>\n",
       "</table>\n",
       "</div>"
      ],
      "text/plain": [
       "      name   age   salary         dept\n",
       "0    Alice  25.0  50000.0           HR\n",
       "1      Bob  30.0  60000.0  Engineering\n",
       "2  Charlie  28.0  55000.0        Sales\n",
       "3    Diana   NaN  75000.0    Marketing\n",
       "4    Ethan  40.0  80000.0  Engineering"
      ]
     },
     "execution_count": 37,
     "metadata": {},
     "output_type": "execute_result"
    }
   ],
   "source": [
    "df.head()"
   ]
  },
  {
   "cell_type": "code",
   "execution_count": 38,
   "id": "ff758f5e-f7c3-4ac7-8353-cab2e6a5d21b",
   "metadata": {},
   "outputs": [
    {
     "data": {
      "text/html": [
       "<div>\n",
       "<style scoped>\n",
       "    .dataframe tbody tr th:only-of-type {\n",
       "        vertical-align: middle;\n",
       "    }\n",
       "\n",
       "    .dataframe tbody tr th {\n",
       "        vertical-align: top;\n",
       "    }\n",
       "\n",
       "    .dataframe thead th {\n",
       "        text-align: right;\n",
       "    }\n",
       "</style>\n",
       "<table border=\"1\" class=\"dataframe\">\n",
       "  <thead>\n",
       "    <tr style=\"text-align: right;\">\n",
       "      <th></th>\n",
       "      <th>name</th>\n",
       "      <th>age</th>\n",
       "      <th>salary</th>\n",
       "      <th>dept</th>\n",
       "    </tr>\n",
       "  </thead>\n",
       "  <tbody>\n",
       "    <tr>\n",
       "      <th>5</th>\n",
       "      <td>Fiona</td>\n",
       "      <td>26.0</td>\n",
       "      <td>NaN</td>\n",
       "      <td>HR</td>\n",
       "    </tr>\n",
       "    <tr>\n",
       "      <th>6</th>\n",
       "      <td>George</td>\n",
       "      <td>32.0</td>\n",
       "      <td>67000.0</td>\n",
       "      <td>Finance</td>\n",
       "    </tr>\n",
       "    <tr>\n",
       "      <th>7</th>\n",
       "      <td>Hannah</td>\n",
       "      <td>29.0</td>\n",
       "      <td>58000.0</td>\n",
       "      <td>Sales</td>\n",
       "    </tr>\n",
       "  </tbody>\n",
       "</table>\n",
       "</div>"
      ],
      "text/plain": [
       "     name   age   salary     dept\n",
       "5   Fiona  26.0      NaN       HR\n",
       "6  George  32.0  67000.0  Finance\n",
       "7  Hannah  29.0  58000.0    Sales"
      ]
     },
     "execution_count": 38,
     "metadata": {},
     "output_type": "execute_result"
    }
   ],
   "source": [
    "df.tail(3)"
   ]
  },
  {
   "cell_type": "code",
   "execution_count": 40,
   "id": "faa19660-6512-4c44-ac98-7083b0fa672e",
   "metadata": {},
   "outputs": [
    {
     "data": {
      "text/html": [
       "<div>\n",
       "<style scoped>\n",
       "    .dataframe tbody tr th:only-of-type {\n",
       "        vertical-align: middle;\n",
       "    }\n",
       "\n",
       "    .dataframe tbody tr th {\n",
       "        vertical-align: top;\n",
       "    }\n",
       "\n",
       "    .dataframe thead th {\n",
       "        text-align: right;\n",
       "    }\n",
       "</style>\n",
       "<table border=\"1\" class=\"dataframe\">\n",
       "  <thead>\n",
       "    <tr style=\"text-align: right;\">\n",
       "      <th></th>\n",
       "      <th>name</th>\n",
       "      <th>age</th>\n",
       "      <th>salary</th>\n",
       "      <th>dept</th>\n",
       "    </tr>\n",
       "  </thead>\n",
       "  <tbody>\n",
       "    <tr>\n",
       "      <th>1</th>\n",
       "      <td>Bob</td>\n",
       "      <td>30.0</td>\n",
       "      <td>60000.0</td>\n",
       "      <td>Engineering</td>\n",
       "    </tr>\n",
       "    <tr>\n",
       "      <th>2</th>\n",
       "      <td>Charlie</td>\n",
       "      <td>28.0</td>\n",
       "      <td>55000.0</td>\n",
       "      <td>Sales</td>\n",
       "    </tr>\n",
       "  </tbody>\n",
       "</table>\n",
       "</div>"
      ],
      "text/plain": [
       "      name   age   salary         dept\n",
       "1      Bob  30.0  60000.0  Engineering\n",
       "2  Charlie  28.0  55000.0        Sales"
      ]
     },
     "execution_count": 40,
     "metadata": {},
     "output_type": "execute_result"
    }
   ],
   "source": [
    "df.iloc[1:3]"
   ]
  },
  {
   "cell_type": "code",
   "execution_count": 41,
   "id": "d9c69ccc-290e-4d77-9a07-b6b7ff6be4e1",
   "metadata": {},
   "outputs": [
    {
     "data": {
      "text/html": [
       "<div>\n",
       "<style scoped>\n",
       "    .dataframe tbody tr th:only-of-type {\n",
       "        vertical-align: middle;\n",
       "    }\n",
       "\n",
       "    .dataframe tbody tr th {\n",
       "        vertical-align: top;\n",
       "    }\n",
       "\n",
       "    .dataframe thead th {\n",
       "        text-align: right;\n",
       "    }\n",
       "</style>\n",
       "<table border=\"1\" class=\"dataframe\">\n",
       "  <thead>\n",
       "    <tr style=\"text-align: right;\">\n",
       "      <th></th>\n",
       "      <th>age</th>\n",
       "      <th>dept</th>\n",
       "    </tr>\n",
       "  </thead>\n",
       "  <tbody>\n",
       "    <tr>\n",
       "      <th>1</th>\n",
       "      <td>30.0</td>\n",
       "      <td>Engineering</td>\n",
       "    </tr>\n",
       "    <tr>\n",
       "      <th>2</th>\n",
       "      <td>28.0</td>\n",
       "      <td>Sales</td>\n",
       "    </tr>\n",
       "    <tr>\n",
       "      <th>3</th>\n",
       "      <td>NaN</td>\n",
       "      <td>Marketing</td>\n",
       "    </tr>\n",
       "  </tbody>\n",
       "</table>\n",
       "</div>"
      ],
      "text/plain": [
       "    age         dept\n",
       "1  30.0  Engineering\n",
       "2  28.0        Sales\n",
       "3   NaN    Marketing"
      ]
     },
     "execution_count": 41,
     "metadata": {},
     "output_type": "execute_result"
    }
   ],
   "source": [
    "df.loc[1:3,['age','dept']]"
   ]
  },
  {
   "cell_type": "code",
   "execution_count": 42,
   "id": "9c0aafae-9c0d-4cbc-9794-228a8d2b3ce1",
   "metadata": {},
   "outputs": [
    {
     "data": {
      "text/plain": [
       "0    25.0\n",
       "1    30.0\n",
       "2    28.0\n",
       "3     NaN\n",
       "4    40.0\n",
       "5    26.0\n",
       "6    32.0\n",
       "7    29.0\n",
       "Name: age, dtype: float64"
      ]
     },
     "execution_count": 42,
     "metadata": {},
     "output_type": "execute_result"
    }
   ],
   "source": [
    "df['age']"
   ]
  },
  {
   "cell_type": "code",
   "execution_count": null,
   "id": "69283bc1-de2e-40fc-87a1-f2d834c66142",
   "metadata": {},
   "outputs": [],
   "source": [
    "df.drop('age',axis=1,inplace=True) # default false\n"
   ]
  },
  {
   "cell_type": "code",
   "execution_count": 46,
   "id": "4387ba15-8d9c-4cca-b55c-69c28cc747c7",
   "metadata": {},
   "outputs": [
    {
     "data": {
      "text/html": [
       "<div>\n",
       "<style scoped>\n",
       "    .dataframe tbody tr th:only-of-type {\n",
       "        vertical-align: middle;\n",
       "    }\n",
       "\n",
       "    .dataframe tbody tr th {\n",
       "        vertical-align: top;\n",
       "    }\n",
       "\n",
       "    .dataframe thead th {\n",
       "        text-align: right;\n",
       "    }\n",
       "</style>\n",
       "<table border=\"1\" class=\"dataframe\">\n",
       "  <thead>\n",
       "    <tr style=\"text-align: right;\">\n",
       "      <th></th>\n",
       "      <th>name</th>\n",
       "      <th>salary</th>\n",
       "      <th>dept</th>\n",
       "    </tr>\n",
       "  </thead>\n",
       "  <tbody>\n",
       "    <tr>\n",
       "      <th>0</th>\n",
       "      <td>Alice</td>\n",
       "      <td>50000.0</td>\n",
       "      <td>HR</td>\n",
       "    </tr>\n",
       "    <tr>\n",
       "      <th>1</th>\n",
       "      <td>Bob</td>\n",
       "      <td>60000.0</td>\n",
       "      <td>Engineering</td>\n",
       "    </tr>\n",
       "    <tr>\n",
       "      <th>2</th>\n",
       "      <td>Charlie</td>\n",
       "      <td>55000.0</td>\n",
       "      <td>Sales</td>\n",
       "    </tr>\n",
       "    <tr>\n",
       "      <th>3</th>\n",
       "      <td>Diana</td>\n",
       "      <td>75000.0</td>\n",
       "      <td>Marketing</td>\n",
       "    </tr>\n",
       "    <tr>\n",
       "      <th>4</th>\n",
       "      <td>Ethan</td>\n",
       "      <td>80000.0</td>\n",
       "      <td>Engineering</td>\n",
       "    </tr>\n",
       "    <tr>\n",
       "      <th>5</th>\n",
       "      <td>Fiona</td>\n",
       "      <td>NaN</td>\n",
       "      <td>HR</td>\n",
       "    </tr>\n",
       "    <tr>\n",
       "      <th>6</th>\n",
       "      <td>George</td>\n",
       "      <td>67000.0</td>\n",
       "      <td>Finance</td>\n",
       "    </tr>\n",
       "    <tr>\n",
       "      <th>7</th>\n",
       "      <td>Hannah</td>\n",
       "      <td>58000.0</td>\n",
       "      <td>Sales</td>\n",
       "    </tr>\n",
       "  </tbody>\n",
       "</table>\n",
       "</div>"
      ],
      "text/plain": [
       "      name   salary         dept\n",
       "0    Alice  50000.0           HR\n",
       "1      Bob  60000.0  Engineering\n",
       "2  Charlie  55000.0        Sales\n",
       "3    Diana  75000.0    Marketing\n",
       "4    Ethan  80000.0  Engineering\n",
       "5    Fiona      NaN           HR\n",
       "6   George  67000.0      Finance\n",
       "7   Hannah  58000.0        Sales"
      ]
     },
     "execution_count": 46,
     "metadata": {},
     "output_type": "execute_result"
    }
   ],
   "source": [
    "df"
   ]
  },
  {
   "cell_type": "code",
   "execution_count": 47,
   "id": "edd18384-7ebc-4724-a418-f60b968f3b8c",
   "metadata": {},
   "outputs": [
    {
     "data": {
      "text/plain": [
       "(8, 3)"
      ]
     },
     "execution_count": 47,
     "metadata": {},
     "output_type": "execute_result"
    }
   ],
   "source": [
    "df.shape"
   ]
  },
  {
   "cell_type": "code",
   "execution_count": 48,
   "id": "7fa8b85e-d3f4-44ed-a858-63c7f7d39835",
   "metadata": {},
   "outputs": [
    {
     "name": "stdout",
     "output_type": "stream",
     "text": [
      "<class 'pandas.core.frame.DataFrame'>\n",
      "RangeIndex: 8 entries, 0 to 7\n",
      "Data columns (total 3 columns):\n",
      " #   Column  Non-Null Count  Dtype  \n",
      "---  ------  --------------  -----  \n",
      " 0   name    8 non-null      object \n",
      " 1   salary  7 non-null      float64\n",
      " 2   dept    8 non-null      object \n",
      "dtypes: float64(1), object(2)\n",
      "memory usage: 324.0+ bytes\n"
     ]
    }
   ],
   "source": [
    "df.info()"
   ]
  },
  {
   "cell_type": "code",
   "execution_count": 49,
   "id": "77f47812-a1aa-418c-931b-9691906ea829",
   "metadata": {},
   "outputs": [
    {
     "data": {
      "text/html": [
       "<div>\n",
       "<style scoped>\n",
       "    .dataframe tbody tr th:only-of-type {\n",
       "        vertical-align: middle;\n",
       "    }\n",
       "\n",
       "    .dataframe tbody tr th {\n",
       "        vertical-align: top;\n",
       "    }\n",
       "\n",
       "    .dataframe thead th {\n",
       "        text-align: right;\n",
       "    }\n",
       "</style>\n",
       "<table border=\"1\" class=\"dataframe\">\n",
       "  <thead>\n",
       "    <tr style=\"text-align: right;\">\n",
       "      <th></th>\n",
       "      <th>salary</th>\n",
       "    </tr>\n",
       "  </thead>\n",
       "  <tbody>\n",
       "    <tr>\n",
       "      <th>count</th>\n",
       "      <td>7.000000</td>\n",
       "    </tr>\n",
       "    <tr>\n",
       "      <th>mean</th>\n",
       "      <td>63571.428571</td>\n",
       "    </tr>\n",
       "    <tr>\n",
       "      <th>std</th>\n",
       "      <td>10906.529281</td>\n",
       "    </tr>\n",
       "    <tr>\n",
       "      <th>min</th>\n",
       "      <td>50000.000000</td>\n",
       "    </tr>\n",
       "    <tr>\n",
       "      <th>25%</th>\n",
       "      <td>56500.000000</td>\n",
       "    </tr>\n",
       "    <tr>\n",
       "      <th>50%</th>\n",
       "      <td>60000.000000</td>\n",
       "    </tr>\n",
       "    <tr>\n",
       "      <th>75%</th>\n",
       "      <td>71000.000000</td>\n",
       "    </tr>\n",
       "    <tr>\n",
       "      <th>max</th>\n",
       "      <td>80000.000000</td>\n",
       "    </tr>\n",
       "  </tbody>\n",
       "</table>\n",
       "</div>"
      ],
      "text/plain": [
       "             salary\n",
       "count      7.000000\n",
       "mean   63571.428571\n",
       "std    10906.529281\n",
       "min    50000.000000\n",
       "25%    56500.000000\n",
       "50%    60000.000000\n",
       "75%    71000.000000\n",
       "max    80000.000000"
      ]
     },
     "execution_count": 49,
     "metadata": {},
     "output_type": "execute_result"
    }
   ],
   "source": [
    "df.describe()"
   ]
  },
  {
   "cell_type": "markdown",
   "id": "39884a0d-4641-49de-a138-65f37b7eb4bc",
   "metadata": {},
   "source": [
    "<h2>Broadcasting</h2>"
   ]
  },
  {
   "cell_type": "code",
   "execution_count": 51,
   "id": "7a75f8d0-6bdf-44a0-8424-c00e2f794f3f",
   "metadata": {},
   "outputs": [
    {
     "data": {
      "text/html": [
       "<div>\n",
       "<style scoped>\n",
       "    .dataframe tbody tr th:only-of-type {\n",
       "        vertical-align: middle;\n",
       "    }\n",
       "\n",
       "    .dataframe tbody tr th {\n",
       "        vertical-align: top;\n",
       "    }\n",
       "\n",
       "    .dataframe thead th {\n",
       "        text-align: right;\n",
       "    }\n",
       "</style>\n",
       "<table border=\"1\" class=\"dataframe\">\n",
       "  <thead>\n",
       "    <tr style=\"text-align: right;\">\n",
       "      <th></th>\n",
       "      <th>name</th>\n",
       "      <th>salary</th>\n",
       "      <th>dept</th>\n",
       "    </tr>\n",
       "  </thead>\n",
       "  <tbody>\n",
       "    <tr>\n",
       "      <th>0</th>\n",
       "      <td>Alice</td>\n",
       "      <td>60000.0</td>\n",
       "      <td>HR</td>\n",
       "    </tr>\n",
       "    <tr>\n",
       "      <th>1</th>\n",
       "      <td>Bob</td>\n",
       "      <td>70000.0</td>\n",
       "      <td>Engineering</td>\n",
       "    </tr>\n",
       "    <tr>\n",
       "      <th>2</th>\n",
       "      <td>Charlie</td>\n",
       "      <td>65000.0</td>\n",
       "      <td>Sales</td>\n",
       "    </tr>\n",
       "    <tr>\n",
       "      <th>3</th>\n",
       "      <td>Diana</td>\n",
       "      <td>85000.0</td>\n",
       "      <td>Marketing</td>\n",
       "    </tr>\n",
       "    <tr>\n",
       "      <th>4</th>\n",
       "      <td>Ethan</td>\n",
       "      <td>90000.0</td>\n",
       "      <td>Engineering</td>\n",
       "    </tr>\n",
       "    <tr>\n",
       "      <th>5</th>\n",
       "      <td>Fiona</td>\n",
       "      <td>NaN</td>\n",
       "      <td>HR</td>\n",
       "    </tr>\n",
       "    <tr>\n",
       "      <th>6</th>\n",
       "      <td>George</td>\n",
       "      <td>77000.0</td>\n",
       "      <td>Finance</td>\n",
       "    </tr>\n",
       "    <tr>\n",
       "      <th>7</th>\n",
       "      <td>Hannah</td>\n",
       "      <td>68000.0</td>\n",
       "      <td>Sales</td>\n",
       "    </tr>\n",
       "  </tbody>\n",
       "</table>\n",
       "</div>"
      ],
      "text/plain": [
       "      name   salary         dept\n",
       "0    Alice  60000.0           HR\n",
       "1      Bob  70000.0  Engineering\n",
       "2  Charlie  65000.0        Sales\n",
       "3    Diana  85000.0    Marketing\n",
       "4    Ethan  90000.0  Engineering\n",
       "5    Fiona      NaN           HR\n",
       "6   George  77000.0      Finance\n",
       "7   Hannah  68000.0        Sales"
      ]
     },
     "execution_count": 51,
     "metadata": {},
     "output_type": "execute_result"
    }
   ],
   "source": [
    "df['salary'] = df['salary'] + 5000\n",
    "df"
   ]
  },
  {
   "cell_type": "code",
   "execution_count": 52,
   "id": "3b37fc5b-8560-41cd-97d5-1d8f601317aa",
   "metadata": {},
   "outputs": [],
   "source": [
    "df.rename(columns={'dept':'Department'},inplace=True)"
   ]
  },
  {
   "cell_type": "code",
   "execution_count": 53,
   "id": "66e0dab9-9092-45e5-8a89-c49470803cef",
   "metadata": {},
   "outputs": [
    {
     "data": {
      "text/plain": [
       "array([60000., 70000., 65000., 85000., 90000.,    nan, 77000., 68000.])"
      ]
     },
     "execution_count": 53,
     "metadata": {},
     "output_type": "execute_result"
    }
   ],
   "source": [
    "df['salary'].unique()"
   ]
  },
  {
   "cell_type": "code",
   "execution_count": 54,
   "id": "fe8d1117-41a5-41be-9d97-d19c9dd012e2",
   "metadata": {},
   "outputs": [
    {
     "data": {
      "text/plain": [
       "Department\n",
       "HR             2\n",
       "Engineering    2\n",
       "Sales          2\n",
       "Marketing      1\n",
       "Finance        1\n",
       "Name: count, dtype: int64"
      ]
     },
     "execution_count": 54,
     "metadata": {},
     "output_type": "execute_result"
    }
   ],
   "source": [
    "df['Department'].value_counts()"
   ]
  },
  {
   "cell_type": "code",
   "execution_count": 55,
   "id": "471e4258-4c98-4fb2-a465-11353c166082",
   "metadata": {},
   "outputs": [],
   "source": [
    "df['Promoted Salary'] = df['salary'] * 10"
   ]
  },
  {
   "cell_type": "code",
   "execution_count": 56,
   "id": "a8a48075-c83b-41e2-a9fe-cd2c1f32d7b6",
   "metadata": {},
   "outputs": [
    {
     "data": {
      "text/html": [
       "<div>\n",
       "<style scoped>\n",
       "    .dataframe tbody tr th:only-of-type {\n",
       "        vertical-align: middle;\n",
       "    }\n",
       "\n",
       "    .dataframe tbody tr th {\n",
       "        vertical-align: top;\n",
       "    }\n",
       "\n",
       "    .dataframe thead th {\n",
       "        text-align: right;\n",
       "    }\n",
       "</style>\n",
       "<table border=\"1\" class=\"dataframe\">\n",
       "  <thead>\n",
       "    <tr style=\"text-align: right;\">\n",
       "      <th></th>\n",
       "      <th>name</th>\n",
       "      <th>salary</th>\n",
       "      <th>Department</th>\n",
       "      <th>Promoted Salary</th>\n",
       "    </tr>\n",
       "  </thead>\n",
       "  <tbody>\n",
       "    <tr>\n",
       "      <th>0</th>\n",
       "      <td>Alice</td>\n",
       "      <td>60000.0</td>\n",
       "      <td>HR</td>\n",
       "      <td>600000.0</td>\n",
       "    </tr>\n",
       "    <tr>\n",
       "      <th>1</th>\n",
       "      <td>Bob</td>\n",
       "      <td>70000.0</td>\n",
       "      <td>Engineering</td>\n",
       "      <td>700000.0</td>\n",
       "    </tr>\n",
       "    <tr>\n",
       "      <th>2</th>\n",
       "      <td>Charlie</td>\n",
       "      <td>65000.0</td>\n",
       "      <td>Sales</td>\n",
       "      <td>650000.0</td>\n",
       "    </tr>\n",
       "    <tr>\n",
       "      <th>3</th>\n",
       "      <td>Diana</td>\n",
       "      <td>85000.0</td>\n",
       "      <td>Marketing</td>\n",
       "      <td>850000.0</td>\n",
       "    </tr>\n",
       "    <tr>\n",
       "      <th>4</th>\n",
       "      <td>Ethan</td>\n",
       "      <td>90000.0</td>\n",
       "      <td>Engineering</td>\n",
       "      <td>900000.0</td>\n",
       "    </tr>\n",
       "    <tr>\n",
       "      <th>5</th>\n",
       "      <td>Fiona</td>\n",
       "      <td>NaN</td>\n",
       "      <td>HR</td>\n",
       "      <td>NaN</td>\n",
       "    </tr>\n",
       "    <tr>\n",
       "      <th>6</th>\n",
       "      <td>George</td>\n",
       "      <td>77000.0</td>\n",
       "      <td>Finance</td>\n",
       "      <td>770000.0</td>\n",
       "    </tr>\n",
       "    <tr>\n",
       "      <th>7</th>\n",
       "      <td>Hannah</td>\n",
       "      <td>68000.0</td>\n",
       "      <td>Sales</td>\n",
       "      <td>680000.0</td>\n",
       "    </tr>\n",
       "  </tbody>\n",
       "</table>\n",
       "</div>"
      ],
      "text/plain": [
       "      name   salary   Department  Promoted Salary\n",
       "0    Alice  60000.0           HR         600000.0\n",
       "1      Bob  70000.0  Engineering         700000.0\n",
       "2  Charlie  65000.0        Sales         650000.0\n",
       "3    Diana  85000.0    Marketing         850000.0\n",
       "4    Ethan  90000.0  Engineering         900000.0\n",
       "5    Fiona      NaN           HR              NaN\n",
       "6   George  77000.0      Finance         770000.0\n",
       "7   Hannah  68000.0        Sales         680000.0"
      ]
     },
     "execution_count": 56,
     "metadata": {},
     "output_type": "execute_result"
    }
   ],
   "source": [
    "df"
   ]
  },
  {
   "cell_type": "markdown",
   "id": "c14270af-0366-4113-b566-bd4f88934265",
   "metadata": {},
   "source": [
    "<h2>Data Cleaning</h2>"
   ]
  },
  {
   "cell_type": "code",
   "execution_count": 57,
   "id": "8369254a-1db6-4933-a3f9-d5fb0d709524",
   "metadata": {},
   "outputs": [
    {
     "data": {
      "text/plain": [
       "name               0\n",
       "salary             1\n",
       "Department         0\n",
       "Promoted Salary    1\n",
       "dtype: int64"
      ]
     },
     "execution_count": 57,
     "metadata": {},
     "output_type": "execute_result"
    }
   ],
   "source": [
    "df.isnull().sum()"
   ]
  },
  {
   "cell_type": "code",
   "execution_count": 58,
   "id": "ea99aa5f-6cf7-4a39-a9a1-1320e340269d",
   "metadata": {},
   "outputs": [
    {
     "data": {
      "text/html": [
       "<div>\n",
       "<style scoped>\n",
       "    .dataframe tbody tr th:only-of-type {\n",
       "        vertical-align: middle;\n",
       "    }\n",
       "\n",
       "    .dataframe tbody tr th {\n",
       "        vertical-align: top;\n",
       "    }\n",
       "\n",
       "    .dataframe thead th {\n",
       "        text-align: right;\n",
       "    }\n",
       "</style>\n",
       "<table border=\"1\" class=\"dataframe\">\n",
       "  <thead>\n",
       "    <tr style=\"text-align: right;\">\n",
       "      <th></th>\n",
       "      <th>name</th>\n",
       "      <th>salary</th>\n",
       "      <th>Department</th>\n",
       "      <th>Promoted Salary</th>\n",
       "    </tr>\n",
       "  </thead>\n",
       "  <tbody>\n",
       "    <tr>\n",
       "      <th>0</th>\n",
       "      <td>Alice</td>\n",
       "      <td>60000.0</td>\n",
       "      <td>HR</td>\n",
       "      <td>600000.0</td>\n",
       "    </tr>\n",
       "    <tr>\n",
       "      <th>1</th>\n",
       "      <td>Bob</td>\n",
       "      <td>70000.0</td>\n",
       "      <td>Engineering</td>\n",
       "      <td>700000.0</td>\n",
       "    </tr>\n",
       "    <tr>\n",
       "      <th>2</th>\n",
       "      <td>Charlie</td>\n",
       "      <td>65000.0</td>\n",
       "      <td>Sales</td>\n",
       "      <td>650000.0</td>\n",
       "    </tr>\n",
       "    <tr>\n",
       "      <th>3</th>\n",
       "      <td>Diana</td>\n",
       "      <td>85000.0</td>\n",
       "      <td>Marketing</td>\n",
       "      <td>850000.0</td>\n",
       "    </tr>\n",
       "    <tr>\n",
       "      <th>4</th>\n",
       "      <td>Ethan</td>\n",
       "      <td>90000.0</td>\n",
       "      <td>Engineering</td>\n",
       "      <td>900000.0</td>\n",
       "    </tr>\n",
       "    <tr>\n",
       "      <th>6</th>\n",
       "      <td>George</td>\n",
       "      <td>77000.0</td>\n",
       "      <td>Finance</td>\n",
       "      <td>770000.0</td>\n",
       "    </tr>\n",
       "    <tr>\n",
       "      <th>7</th>\n",
       "      <td>Hannah</td>\n",
       "      <td>68000.0</td>\n",
       "      <td>Sales</td>\n",
       "      <td>680000.0</td>\n",
       "    </tr>\n",
       "  </tbody>\n",
       "</table>\n",
       "</div>"
      ],
      "text/plain": [
       "      name   salary   Department  Promoted Salary\n",
       "0    Alice  60000.0           HR         600000.0\n",
       "1      Bob  70000.0  Engineering         700000.0\n",
       "2  Charlie  65000.0        Sales         650000.0\n",
       "3    Diana  85000.0    Marketing         850000.0\n",
       "4    Ethan  90000.0  Engineering         900000.0\n",
       "6   George  77000.0      Finance         770000.0\n",
       "7   Hannah  68000.0        Sales         680000.0"
      ]
     },
     "execution_count": 58,
     "metadata": {},
     "output_type": "execute_result"
    }
   ],
   "source": [
    "df.dropna()"
   ]
  },
  {
   "cell_type": "code",
   "execution_count": 59,
   "id": "330ae32a-b152-4072-8534-485795d690bb",
   "metadata": {},
   "outputs": [
    {
     "data": {
      "text/html": [
       "<div>\n",
       "<style scoped>\n",
       "    .dataframe tbody tr th:only-of-type {\n",
       "        vertical-align: middle;\n",
       "    }\n",
       "\n",
       "    .dataframe tbody tr th {\n",
       "        vertical-align: top;\n",
       "    }\n",
       "\n",
       "    .dataframe thead th {\n",
       "        text-align: right;\n",
       "    }\n",
       "</style>\n",
       "<table border=\"1\" class=\"dataframe\">\n",
       "  <thead>\n",
       "    <tr style=\"text-align: right;\">\n",
       "      <th></th>\n",
       "      <th>name</th>\n",
       "      <th>salary</th>\n",
       "      <th>Department</th>\n",
       "      <th>Promoted Salary</th>\n",
       "    </tr>\n",
       "  </thead>\n",
       "  <tbody>\n",
       "    <tr>\n",
       "      <th>0</th>\n",
       "      <td>Alice</td>\n",
       "      <td>60000.0</td>\n",
       "      <td>HR</td>\n",
       "      <td>600000.0</td>\n",
       "    </tr>\n",
       "    <tr>\n",
       "      <th>1</th>\n",
       "      <td>Bob</td>\n",
       "      <td>70000.0</td>\n",
       "      <td>Engineering</td>\n",
       "      <td>700000.0</td>\n",
       "    </tr>\n",
       "    <tr>\n",
       "      <th>2</th>\n",
       "      <td>Charlie</td>\n",
       "      <td>65000.0</td>\n",
       "      <td>Sales</td>\n",
       "      <td>650000.0</td>\n",
       "    </tr>\n",
       "    <tr>\n",
       "      <th>3</th>\n",
       "      <td>Diana</td>\n",
       "      <td>85000.0</td>\n",
       "      <td>Marketing</td>\n",
       "      <td>850000.0</td>\n",
       "    </tr>\n",
       "    <tr>\n",
       "      <th>4</th>\n",
       "      <td>Ethan</td>\n",
       "      <td>90000.0</td>\n",
       "      <td>Engineering</td>\n",
       "      <td>900000.0</td>\n",
       "    </tr>\n",
       "    <tr>\n",
       "      <th>5</th>\n",
       "      <td>Fiona</td>\n",
       "      <td>NaN</td>\n",
       "      <td>HR</td>\n",
       "      <td>NaN</td>\n",
       "    </tr>\n",
       "    <tr>\n",
       "      <th>6</th>\n",
       "      <td>George</td>\n",
       "      <td>77000.0</td>\n",
       "      <td>Finance</td>\n",
       "      <td>770000.0</td>\n",
       "    </tr>\n",
       "    <tr>\n",
       "      <th>7</th>\n",
       "      <td>Hannah</td>\n",
       "      <td>68000.0</td>\n",
       "      <td>Sales</td>\n",
       "      <td>680000.0</td>\n",
       "    </tr>\n",
       "  </tbody>\n",
       "</table>\n",
       "</div>"
      ],
      "text/plain": [
       "      name   salary   Department  Promoted Salary\n",
       "0    Alice  60000.0           HR         600000.0\n",
       "1      Bob  70000.0  Engineering         700000.0\n",
       "2  Charlie  65000.0        Sales         650000.0\n",
       "3    Diana  85000.0    Marketing         850000.0\n",
       "4    Ethan  90000.0  Engineering         900000.0\n",
       "5    Fiona      NaN           HR              NaN\n",
       "6   George  77000.0      Finance         770000.0\n",
       "7   Hannah  68000.0        Sales         680000.0"
      ]
     },
     "execution_count": 59,
     "metadata": {},
     "output_type": "execute_result"
    }
   ],
   "source": [
    "df"
   ]
  },
  {
   "cell_type": "code",
   "execution_count": 61,
   "id": "942b6fd0-505b-4bf4-a76e-4ba0e3a13e11",
   "metadata": {},
   "outputs": [
    {
     "data": {
      "text/html": [
       "<div>\n",
       "<style scoped>\n",
       "    .dataframe tbody tr th:only-of-type {\n",
       "        vertical-align: middle;\n",
       "    }\n",
       "\n",
       "    .dataframe tbody tr th {\n",
       "        vertical-align: top;\n",
       "    }\n",
       "\n",
       "    .dataframe thead th {\n",
       "        text-align: right;\n",
       "    }\n",
       "</style>\n",
       "<table border=\"1\" class=\"dataframe\">\n",
       "  <thead>\n",
       "    <tr style=\"text-align: right;\">\n",
       "      <th></th>\n",
       "      <th>name</th>\n",
       "      <th>salary</th>\n",
       "      <th>Department</th>\n",
       "      <th>Promoted Salary</th>\n",
       "    </tr>\n",
       "  </thead>\n",
       "  <tbody>\n",
       "    <tr>\n",
       "      <th>0</th>\n",
       "      <td>Alice</td>\n",
       "      <td>60000.0</td>\n",
       "      <td>HR</td>\n",
       "      <td>600000.0</td>\n",
       "    </tr>\n",
       "    <tr>\n",
       "      <th>1</th>\n",
       "      <td>Bob</td>\n",
       "      <td>70000.0</td>\n",
       "      <td>Engineering</td>\n",
       "      <td>700000.0</td>\n",
       "    </tr>\n",
       "    <tr>\n",
       "      <th>2</th>\n",
       "      <td>Charlie</td>\n",
       "      <td>65000.0</td>\n",
       "      <td>Sales</td>\n",
       "      <td>650000.0</td>\n",
       "    </tr>\n",
       "    <tr>\n",
       "      <th>3</th>\n",
       "      <td>Diana</td>\n",
       "      <td>85000.0</td>\n",
       "      <td>Marketing</td>\n",
       "      <td>850000.0</td>\n",
       "    </tr>\n",
       "    <tr>\n",
       "      <th>4</th>\n",
       "      <td>Ethan</td>\n",
       "      <td>90000.0</td>\n",
       "      <td>Engineering</td>\n",
       "      <td>900000.0</td>\n",
       "    </tr>\n",
       "    <tr>\n",
       "      <th>5</th>\n",
       "      <td>Fiona</td>\n",
       "      <td>NaN</td>\n",
       "      <td>HR</td>\n",
       "      <td>NaN</td>\n",
       "    </tr>\n",
       "    <tr>\n",
       "      <th>6</th>\n",
       "      <td>George</td>\n",
       "      <td>77000.0</td>\n",
       "      <td>Finance</td>\n",
       "      <td>770000.0</td>\n",
       "    </tr>\n",
       "    <tr>\n",
       "      <th>7</th>\n",
       "      <td>Hannah</td>\n",
       "      <td>68000.0</td>\n",
       "      <td>Sales</td>\n",
       "      <td>680000.0</td>\n",
       "    </tr>\n",
       "  </tbody>\n",
       "</table>\n",
       "</div>"
      ],
      "text/plain": [
       "      name   salary   Department  Promoted Salary\n",
       "0    Alice  60000.0           HR         600000.0\n",
       "1      Bob  70000.0  Engineering         700000.0\n",
       "2  Charlie  65000.0        Sales         650000.0\n",
       "3    Diana  85000.0    Marketing         850000.0\n",
       "4    Ethan  90000.0  Engineering         900000.0\n",
       "5    Fiona      NaN           HR              NaN\n",
       "6   George  77000.0      Finance         770000.0\n",
       "7   Hannah  68000.0        Sales         680000.0"
      ]
     },
     "execution_count": 61,
     "metadata": {},
     "output_type": "execute_result"
    }
   ],
   "source": [
    "df.dropna(how='all') # and all"
   ]
  },
  {
   "cell_type": "code",
   "execution_count": 64,
   "id": "8f56a4f7-6415-465e-948e-e7055e87f540",
   "metadata": {},
   "outputs": [
    {
     "data": {
      "text/plain": [
       "0    60000.000000\n",
       "1    70000.000000\n",
       "2    65000.000000\n",
       "3    85000.000000\n",
       "4    90000.000000\n",
       "5    73571.428571\n",
       "6    77000.000000\n",
       "7    68000.000000\n",
       "Name: salary, dtype: float64"
      ]
     },
     "execution_count": 64,
     "metadata": {},
     "output_type": "execute_result"
    }
   ],
   "source": [
    "df['salary'].fillna(df['salary'].mean())"
   ]
  },
  {
   "cell_type": "code",
   "execution_count": 65,
   "id": "a28e81dc-a769-467c-af49-f8d50e63ab8a",
   "metadata": {},
   "outputs": [
    {
     "name": "stderr",
     "output_type": "stream",
     "text": [
      "C:\\Users\\91966\\AppData\\Local\\Temp\\ipykernel_15344\\4275321346.py:1: FutureWarning: Series.fillna with 'method' is deprecated and will raise in a future version. Use obj.ffill() or obj.bfill() instead.\n",
      "  df['salary'].fillna(method='ffill')\n"
     ]
    },
    {
     "data": {
      "text/plain": [
       "0    60000.0\n",
       "1    70000.0\n",
       "2    65000.0\n",
       "3    85000.0\n",
       "4    90000.0\n",
       "5    90000.0\n",
       "6    77000.0\n",
       "7    68000.0\n",
       "Name: salary, dtype: float64"
      ]
     },
     "execution_count": 65,
     "metadata": {},
     "output_type": "execute_result"
    }
   ],
   "source": [
    "df['salary'].fillna(method='ffill')"
   ]
  },
  {
   "cell_type": "code",
   "execution_count": 66,
   "id": "8ba1a1d3-1c6b-4323-a456-8e1f985057d7",
   "metadata": {},
   "outputs": [],
   "source": [
    "df['name'] = df['name'].replace('Charlie','Aditya')"
   ]
  },
  {
   "cell_type": "code",
   "execution_count": 67,
   "id": "504192f9-eff0-4eb3-a6ed-1e854828ffd9",
   "metadata": {},
   "outputs": [
    {
     "data": {
      "text/html": [
       "<div>\n",
       "<style scoped>\n",
       "    .dataframe tbody tr th:only-of-type {\n",
       "        vertical-align: middle;\n",
       "    }\n",
       "\n",
       "    .dataframe tbody tr th {\n",
       "        vertical-align: top;\n",
       "    }\n",
       "\n",
       "    .dataframe thead th {\n",
       "        text-align: right;\n",
       "    }\n",
       "</style>\n",
       "<table border=\"1\" class=\"dataframe\">\n",
       "  <thead>\n",
       "    <tr style=\"text-align: right;\">\n",
       "      <th></th>\n",
       "      <th>name</th>\n",
       "      <th>salary</th>\n",
       "      <th>Department</th>\n",
       "      <th>Promoted Salary</th>\n",
       "    </tr>\n",
       "  </thead>\n",
       "  <tbody>\n",
       "    <tr>\n",
       "      <th>0</th>\n",
       "      <td>Alice</td>\n",
       "      <td>60000.0</td>\n",
       "      <td>HR</td>\n",
       "      <td>600000.0</td>\n",
       "    </tr>\n",
       "    <tr>\n",
       "      <th>1</th>\n",
       "      <td>Bob</td>\n",
       "      <td>70000.0</td>\n",
       "      <td>Engineering</td>\n",
       "      <td>700000.0</td>\n",
       "    </tr>\n",
       "    <tr>\n",
       "      <th>2</th>\n",
       "      <td>Aditya</td>\n",
       "      <td>65000.0</td>\n",
       "      <td>Sales</td>\n",
       "      <td>650000.0</td>\n",
       "    </tr>\n",
       "    <tr>\n",
       "      <th>3</th>\n",
       "      <td>Diana</td>\n",
       "      <td>85000.0</td>\n",
       "      <td>Marketing</td>\n",
       "      <td>850000.0</td>\n",
       "    </tr>\n",
       "    <tr>\n",
       "      <th>4</th>\n",
       "      <td>Ethan</td>\n",
       "      <td>90000.0</td>\n",
       "      <td>Engineering</td>\n",
       "      <td>900000.0</td>\n",
       "    </tr>\n",
       "    <tr>\n",
       "      <th>5</th>\n",
       "      <td>Fiona</td>\n",
       "      <td>NaN</td>\n",
       "      <td>HR</td>\n",
       "      <td>NaN</td>\n",
       "    </tr>\n",
       "    <tr>\n",
       "      <th>6</th>\n",
       "      <td>George</td>\n",
       "      <td>77000.0</td>\n",
       "      <td>Finance</td>\n",
       "      <td>770000.0</td>\n",
       "    </tr>\n",
       "    <tr>\n",
       "      <th>7</th>\n",
       "      <td>Hannah</td>\n",
       "      <td>68000.0</td>\n",
       "      <td>Sales</td>\n",
       "      <td>680000.0</td>\n",
       "    </tr>\n",
       "  </tbody>\n",
       "</table>\n",
       "</div>"
      ],
      "text/plain": [
       "     name   salary   Department  Promoted Salary\n",
       "0   Alice  60000.0           HR         600000.0\n",
       "1     Bob  70000.0  Engineering         700000.0\n",
       "2  Aditya  65000.0        Sales         650000.0\n",
       "3   Diana  85000.0    Marketing         850000.0\n",
       "4   Ethan  90000.0  Engineering         900000.0\n",
       "5   Fiona      NaN           HR              NaN\n",
       "6  George  77000.0      Finance         770000.0\n",
       "7  Hannah  68000.0        Sales         680000.0"
      ]
     },
     "execution_count": 67,
     "metadata": {},
     "output_type": "execute_result"
    }
   ],
   "source": [
    "df"
   ]
  },
  {
   "cell_type": "code",
   "execution_count": 68,
   "id": "b894fe4b-1278-42fb-a19b-c7ab337c380b",
   "metadata": {},
   "outputs": [],
   "source": [
    "dup_df = df[df.duplicated(keep='first')] "
   ]
  },
  {
   "cell_type": "code",
   "execution_count": 69,
   "id": "e78eb31b-6251-415c-805a-ab1a4768201c",
   "metadata": {},
   "outputs": [
    {
     "data": {
      "text/html": [
       "<div>\n",
       "<style scoped>\n",
       "    .dataframe tbody tr th:only-of-type {\n",
       "        vertical-align: middle;\n",
       "    }\n",
       "\n",
       "    .dataframe tbody tr th {\n",
       "        vertical-align: top;\n",
       "    }\n",
       "\n",
       "    .dataframe thead th {\n",
       "        text-align: right;\n",
       "    }\n",
       "</style>\n",
       "<table border=\"1\" class=\"dataframe\">\n",
       "  <thead>\n",
       "    <tr style=\"text-align: right;\">\n",
       "      <th></th>\n",
       "      <th>name</th>\n",
       "      <th>salary</th>\n",
       "      <th>Department</th>\n",
       "      <th>Promoted Salary</th>\n",
       "    </tr>\n",
       "  </thead>\n",
       "  <tbody>\n",
       "  </tbody>\n",
       "</table>\n",
       "</div>"
      ],
      "text/plain": [
       "Empty DataFrame\n",
       "Columns: [name, salary, Department, Promoted Salary]\n",
       "Index: []"
      ]
     },
     "execution_count": 69,
     "metadata": {},
     "output_type": "execute_result"
    }
   ],
   "source": [
    "dup_df"
   ]
  },
  {
   "cell_type": "code",
   "execution_count": 70,
   "id": "c2184d76-19fc-4c52-b577-1273df70fd73",
   "metadata": {},
   "outputs": [],
   "source": [
    "df = df.drop_duplicates()"
   ]
  },
  {
   "cell_type": "code",
   "execution_count": 71,
   "id": "f040aecb-8d82-44cb-8239-d5f55d1156d9",
   "metadata": {},
   "outputs": [
    {
     "data": {
      "text/html": [
       "<div>\n",
       "<style scoped>\n",
       "    .dataframe tbody tr th:only-of-type {\n",
       "        vertical-align: middle;\n",
       "    }\n",
       "\n",
       "    .dataframe tbody tr th {\n",
       "        vertical-align: top;\n",
       "    }\n",
       "\n",
       "    .dataframe thead th {\n",
       "        text-align: right;\n",
       "    }\n",
       "</style>\n",
       "<table border=\"1\" class=\"dataframe\">\n",
       "  <thead>\n",
       "    <tr style=\"text-align: right;\">\n",
       "      <th></th>\n",
       "      <th>name</th>\n",
       "      <th>salary</th>\n",
       "      <th>Department</th>\n",
       "      <th>Promoted Salary</th>\n",
       "    </tr>\n",
       "  </thead>\n",
       "  <tbody>\n",
       "    <tr>\n",
       "      <th>0</th>\n",
       "      <td>Alice</td>\n",
       "      <td>60000.0</td>\n",
       "      <td>HR</td>\n",
       "      <td>600000.0</td>\n",
       "    </tr>\n",
       "    <tr>\n",
       "      <th>1</th>\n",
       "      <td>Bob</td>\n",
       "      <td>70000.0</td>\n",
       "      <td>Engineering</td>\n",
       "      <td>700000.0</td>\n",
       "    </tr>\n",
       "    <tr>\n",
       "      <th>2</th>\n",
       "      <td>Aditya</td>\n",
       "      <td>65000.0</td>\n",
       "      <td>Sales</td>\n",
       "      <td>650000.0</td>\n",
       "    </tr>\n",
       "    <tr>\n",
       "      <th>3</th>\n",
       "      <td>Diana</td>\n",
       "      <td>85000.0</td>\n",
       "      <td>Marketing</td>\n",
       "      <td>850000.0</td>\n",
       "    </tr>\n",
       "    <tr>\n",
       "      <th>4</th>\n",
       "      <td>Ethan</td>\n",
       "      <td>90000.0</td>\n",
       "      <td>Engineering</td>\n",
       "      <td>900000.0</td>\n",
       "    </tr>\n",
       "    <tr>\n",
       "      <th>5</th>\n",
       "      <td>Fiona</td>\n",
       "      <td>NaN</td>\n",
       "      <td>HR</td>\n",
       "      <td>NaN</td>\n",
       "    </tr>\n",
       "    <tr>\n",
       "      <th>6</th>\n",
       "      <td>George</td>\n",
       "      <td>77000.0</td>\n",
       "      <td>Finance</td>\n",
       "      <td>770000.0</td>\n",
       "    </tr>\n",
       "    <tr>\n",
       "      <th>7</th>\n",
       "      <td>Hannah</td>\n",
       "      <td>68000.0</td>\n",
       "      <td>Sales</td>\n",
       "      <td>680000.0</td>\n",
       "    </tr>\n",
       "  </tbody>\n",
       "</table>\n",
       "</div>"
      ],
      "text/plain": [
       "     name   salary   Department  Promoted Salary\n",
       "0   Alice  60000.0           HR         600000.0\n",
       "1     Bob  70000.0  Engineering         700000.0\n",
       "2  Aditya  65000.0        Sales         650000.0\n",
       "3   Diana  85000.0    Marketing         850000.0\n",
       "4   Ethan  90000.0  Engineering         900000.0\n",
       "5   Fiona      NaN           HR              NaN\n",
       "6  George  77000.0      Finance         770000.0\n",
       "7  Hannah  68000.0        Sales         680000.0"
      ]
     },
     "execution_count": 71,
     "metadata": {},
     "output_type": "execute_result"
    }
   ],
   "source": [
    "df"
   ]
  },
  {
   "cell_type": "code",
   "execution_count": null,
   "id": "be7712c4-6ea8-4a33-a9a3-747ed6df312e",
   "metadata": {},
   "outputs": [],
   "source": [
    "name = 'alice_fernandes'\n",
    "df[['first','last']] = df['name'].str.split('_')"
   ]
  },
  {
   "cell_type": "code",
   "execution_count": 73,
   "id": "b73fd077-1a28-49b7-ae88-2e6ad57c0230",
   "metadata": {},
   "outputs": [
    {
     "data": {
      "text/html": [
       "<div>\n",
       "<style scoped>\n",
       "    .dataframe tbody tr th:only-of-type {\n",
       "        vertical-align: middle;\n",
       "    }\n",
       "\n",
       "    .dataframe tbody tr th {\n",
       "        vertical-align: top;\n",
       "    }\n",
       "\n",
       "    .dataframe thead th {\n",
       "        text-align: right;\n",
       "    }\n",
       "</style>\n",
       "<table border=\"1\" class=\"dataframe\">\n",
       "  <thead>\n",
       "    <tr style=\"text-align: right;\">\n",
       "      <th></th>\n",
       "      <th>name</th>\n",
       "      <th>salary</th>\n",
       "      <th>Department</th>\n",
       "      <th>Promoted Salary</th>\n",
       "    </tr>\n",
       "  </thead>\n",
       "  <tbody>\n",
       "    <tr>\n",
       "      <th>0</th>\n",
       "      <td>Alice</td>\n",
       "      <td>240000.0</td>\n",
       "      <td>HR</td>\n",
       "      <td>600000.0</td>\n",
       "    </tr>\n",
       "    <tr>\n",
       "      <th>1</th>\n",
       "      <td>Bob</td>\n",
       "      <td>280000.0</td>\n",
       "      <td>Engineering</td>\n",
       "      <td>700000.0</td>\n",
       "    </tr>\n",
       "    <tr>\n",
       "      <th>2</th>\n",
       "      <td>Aditya</td>\n",
       "      <td>260000.0</td>\n",
       "      <td>Sales</td>\n",
       "      <td>650000.0</td>\n",
       "    </tr>\n",
       "    <tr>\n",
       "      <th>3</th>\n",
       "      <td>Diana</td>\n",
       "      <td>340000.0</td>\n",
       "      <td>Marketing</td>\n",
       "      <td>850000.0</td>\n",
       "    </tr>\n",
       "    <tr>\n",
       "      <th>4</th>\n",
       "      <td>Ethan</td>\n",
       "      <td>360000.0</td>\n",
       "      <td>Engineering</td>\n",
       "      <td>900000.0</td>\n",
       "    </tr>\n",
       "    <tr>\n",
       "      <th>5</th>\n",
       "      <td>Fiona</td>\n",
       "      <td>NaN</td>\n",
       "      <td>HR</td>\n",
       "      <td>NaN</td>\n",
       "    </tr>\n",
       "    <tr>\n",
       "      <th>6</th>\n",
       "      <td>George</td>\n",
       "      <td>308000.0</td>\n",
       "      <td>Finance</td>\n",
       "      <td>770000.0</td>\n",
       "    </tr>\n",
       "    <tr>\n",
       "      <th>7</th>\n",
       "      <td>Hannah</td>\n",
       "      <td>272000.0</td>\n",
       "      <td>Sales</td>\n",
       "      <td>680000.0</td>\n",
       "    </tr>\n",
       "  </tbody>\n",
       "</table>\n",
       "</div>"
      ],
      "text/plain": [
       "     name    salary   Department  Promoted Salary\n",
       "0   Alice  240000.0           HR         600000.0\n",
       "1     Bob  280000.0  Engineering         700000.0\n",
       "2  Aditya  260000.0        Sales         650000.0\n",
       "3   Diana  340000.0    Marketing         850000.0\n",
       "4   Ethan  360000.0  Engineering         900000.0\n",
       "5   Fiona       NaN           HR              NaN\n",
       "6  George  308000.0      Finance         770000.0\n",
       "7  Hannah  272000.0        Sales         680000.0"
      ]
     },
     "execution_count": 73,
     "metadata": {},
     "output_type": "execute_result"
    }
   ],
   "source": [
    "# apply and lamda\n",
    "def mul(x):\n",
    "    return x*2\n",
    "df['salary'] = df['salary'].apply(mul)\n",
    "df"
   ]
  },
  {
   "cell_type": "code",
   "execution_count": 74,
   "id": "049088f0-cbdc-4bd0-b3a6-91a2137cef9e",
   "metadata": {},
   "outputs": [],
   "source": [
    "df['salary'] = df['salary'].apply(lambda x : x/2)"
   ]
  },
  {
   "cell_type": "code",
   "execution_count": 75,
   "id": "f0a9e1e6-fff5-47d5-843d-76a70fd035c6",
   "metadata": {},
   "outputs": [
    {
     "data": {
      "text/html": [
       "<div>\n",
       "<style scoped>\n",
       "    .dataframe tbody tr th:only-of-type {\n",
       "        vertical-align: middle;\n",
       "    }\n",
       "\n",
       "    .dataframe tbody tr th {\n",
       "        vertical-align: top;\n",
       "    }\n",
       "\n",
       "    .dataframe thead th {\n",
       "        text-align: right;\n",
       "    }\n",
       "</style>\n",
       "<table border=\"1\" class=\"dataframe\">\n",
       "  <thead>\n",
       "    <tr style=\"text-align: right;\">\n",
       "      <th></th>\n",
       "      <th>name</th>\n",
       "      <th>salary</th>\n",
       "      <th>Department</th>\n",
       "      <th>Promoted Salary</th>\n",
       "    </tr>\n",
       "  </thead>\n",
       "  <tbody>\n",
       "    <tr>\n",
       "      <th>0</th>\n",
       "      <td>Alice</td>\n",
       "      <td>120000.0</td>\n",
       "      <td>HR</td>\n",
       "      <td>600000.0</td>\n",
       "    </tr>\n",
       "    <tr>\n",
       "      <th>1</th>\n",
       "      <td>Bob</td>\n",
       "      <td>140000.0</td>\n",
       "      <td>Engineering</td>\n",
       "      <td>700000.0</td>\n",
       "    </tr>\n",
       "    <tr>\n",
       "      <th>2</th>\n",
       "      <td>Aditya</td>\n",
       "      <td>130000.0</td>\n",
       "      <td>Sales</td>\n",
       "      <td>650000.0</td>\n",
       "    </tr>\n",
       "    <tr>\n",
       "      <th>3</th>\n",
       "      <td>Diana</td>\n",
       "      <td>170000.0</td>\n",
       "      <td>Marketing</td>\n",
       "      <td>850000.0</td>\n",
       "    </tr>\n",
       "    <tr>\n",
       "      <th>4</th>\n",
       "      <td>Ethan</td>\n",
       "      <td>180000.0</td>\n",
       "      <td>Engineering</td>\n",
       "      <td>900000.0</td>\n",
       "    </tr>\n",
       "    <tr>\n",
       "      <th>5</th>\n",
       "      <td>Fiona</td>\n",
       "      <td>NaN</td>\n",
       "      <td>HR</td>\n",
       "      <td>NaN</td>\n",
       "    </tr>\n",
       "    <tr>\n",
       "      <th>6</th>\n",
       "      <td>George</td>\n",
       "      <td>154000.0</td>\n",
       "      <td>Finance</td>\n",
       "      <td>770000.0</td>\n",
       "    </tr>\n",
       "    <tr>\n",
       "      <th>7</th>\n",
       "      <td>Hannah</td>\n",
       "      <td>136000.0</td>\n",
       "      <td>Sales</td>\n",
       "      <td>680000.0</td>\n",
       "    </tr>\n",
       "  </tbody>\n",
       "</table>\n",
       "</div>"
      ],
      "text/plain": [
       "     name    salary   Department  Promoted Salary\n",
       "0   Alice  120000.0           HR         600000.0\n",
       "1     Bob  140000.0  Engineering         700000.0\n",
       "2  Aditya  130000.0        Sales         650000.0\n",
       "3   Diana  170000.0    Marketing         850000.0\n",
       "4   Ethan  180000.0  Engineering         900000.0\n",
       "5   Fiona       NaN           HR              NaN\n",
       "6  George  154000.0      Finance         770000.0\n",
       "7  Hannah  136000.0        Sales         680000.0"
      ]
     },
     "execution_count": 75,
     "metadata": {},
     "output_type": "execute_result"
    }
   ],
   "source": [
    "df"
   ]
  },
  {
   "cell_type": "markdown",
   "id": "4f5655ee-d5d9-4b3a-af7b-cbcd1cbfc209",
   "metadata": {},
   "source": [
    "<h2>Joins and Merges</h2>"
   ]
  },
  {
   "cell_type": "code",
   "execution_count": 77,
   "id": "3fe076d5-3c07-403c-ad3d-087d5ca7a5c8",
   "metadata": {},
   "outputs": [
    {
     "data": {
      "text/html": [
       "<div>\n",
       "<style scoped>\n",
       "    .dataframe tbody tr th:only-of-type {\n",
       "        vertical-align: middle;\n",
       "    }\n",
       "\n",
       "    .dataframe tbody tr th {\n",
       "        vertical-align: top;\n",
       "    }\n",
       "\n",
       "    .dataframe thead th {\n",
       "        text-align: right;\n",
       "    }\n",
       "</style>\n",
       "<table border=\"1\" class=\"dataframe\">\n",
       "  <thead>\n",
       "    <tr style=\"text-align: right;\">\n",
       "      <th></th>\n",
       "      <th>dept</th>\n",
       "      <th>location</th>\n",
       "      <th>manager</th>\n",
       "    </tr>\n",
       "  </thead>\n",
       "  <tbody>\n",
       "    <tr>\n",
       "      <th>0</th>\n",
       "      <td>HR</td>\n",
       "      <td>New York</td>\n",
       "      <td>Susan Miller</td>\n",
       "    </tr>\n",
       "    <tr>\n",
       "      <th>1</th>\n",
       "      <td>Engineering</td>\n",
       "      <td>San Francisco</td>\n",
       "      <td>James Lee</td>\n",
       "    </tr>\n",
       "    <tr>\n",
       "      <th>2</th>\n",
       "      <td>Sales</td>\n",
       "      <td>Chicago</td>\n",
       "      <td>Nina Patel</td>\n",
       "    </tr>\n",
       "    <tr>\n",
       "      <th>3</th>\n",
       "      <td>Marketing</td>\n",
       "      <td>Los Angeles</td>\n",
       "      <td>Carlos Gomez</td>\n",
       "    </tr>\n",
       "    <tr>\n",
       "      <th>4</th>\n",
       "      <td>Finance</td>\n",
       "      <td>Boston</td>\n",
       "      <td>Rachel Green</td>\n",
       "    </tr>\n",
       "  </tbody>\n",
       "</table>\n",
       "</div>"
      ],
      "text/plain": [
       "          dept       location       manager\n",
       "0           HR       New York  Susan Miller\n",
       "1  Engineering  San Francisco     James Lee\n",
       "2        Sales        Chicago    Nina Patel\n",
       "3    Marketing    Los Angeles  Carlos Gomez\n",
       "4      Finance         Boston  Rachel Green"
      ]
     },
     "execution_count": 77,
     "metadata": {},
     "output_type": "execute_result"
    }
   ],
   "source": [
    "dept_info = {\n",
    "    \"dept\": [\"HR\", \"Engineering\", \"Sales\", \"Marketing\", \"Finance\"],\n",
    "    \"location\": [\"New York\", \"San Francisco\", \"Chicago\", \"Los Angeles\", \"Boston\"],\n",
    "    \"manager\": [\"Susan Miller\", \"James Lee\", \"Nina Patel\", \"Carlos Gomez\", \"Rachel Green\"]\n",
    "}\n",
    "df2=pd.DataFrame(dept_info)\n",
    "df2"
   ]
  },
  {
   "cell_type": "code",
   "execution_count": 79,
   "id": "86dd98a3-aa01-4a87-b7ba-89e5823d6fd1",
   "metadata": {},
   "outputs": [
    {
     "data": {
      "text/html": [
       "<div>\n",
       "<style scoped>\n",
       "    .dataframe tbody tr th:only-of-type {\n",
       "        vertical-align: middle;\n",
       "    }\n",
       "\n",
       "    .dataframe tbody tr th {\n",
       "        vertical-align: top;\n",
       "    }\n",
       "\n",
       "    .dataframe thead th {\n",
       "        text-align: right;\n",
       "    }\n",
       "</style>\n",
       "<table border=\"1\" class=\"dataframe\">\n",
       "  <thead>\n",
       "    <tr style=\"text-align: right;\">\n",
       "      <th></th>\n",
       "      <th>name</th>\n",
       "      <th>salary</th>\n",
       "      <th>Department</th>\n",
       "      <th>Promoted Salary</th>\n",
       "      <th>dept</th>\n",
       "      <th>location</th>\n",
       "      <th>manager</th>\n",
       "    </tr>\n",
       "  </thead>\n",
       "  <tbody>\n",
       "    <tr>\n",
       "      <th>0</th>\n",
       "      <td>Alice</td>\n",
       "      <td>120000.0</td>\n",
       "      <td>HR</td>\n",
       "      <td>600000.0</td>\n",
       "      <td>HR</td>\n",
       "      <td>New York</td>\n",
       "      <td>Susan Miller</td>\n",
       "    </tr>\n",
       "    <tr>\n",
       "      <th>1</th>\n",
       "      <td>Bob</td>\n",
       "      <td>140000.0</td>\n",
       "      <td>Engineering</td>\n",
       "      <td>700000.0</td>\n",
       "      <td>Engineering</td>\n",
       "      <td>San Francisco</td>\n",
       "      <td>James Lee</td>\n",
       "    </tr>\n",
       "    <tr>\n",
       "      <th>2</th>\n",
       "      <td>Aditya</td>\n",
       "      <td>130000.0</td>\n",
       "      <td>Sales</td>\n",
       "      <td>650000.0</td>\n",
       "      <td>Sales</td>\n",
       "      <td>Chicago</td>\n",
       "      <td>Nina Patel</td>\n",
       "    </tr>\n",
       "    <tr>\n",
       "      <th>3</th>\n",
       "      <td>Diana</td>\n",
       "      <td>170000.0</td>\n",
       "      <td>Marketing</td>\n",
       "      <td>850000.0</td>\n",
       "      <td>Marketing</td>\n",
       "      <td>Los Angeles</td>\n",
       "      <td>Carlos Gomez</td>\n",
       "    </tr>\n",
       "    <tr>\n",
       "      <th>4</th>\n",
       "      <td>Ethan</td>\n",
       "      <td>180000.0</td>\n",
       "      <td>Engineering</td>\n",
       "      <td>900000.0</td>\n",
       "      <td>Finance</td>\n",
       "      <td>Boston</td>\n",
       "      <td>Rachel Green</td>\n",
       "    </tr>\n",
       "    <tr>\n",
       "      <th>5</th>\n",
       "      <td>Fiona</td>\n",
       "      <td>NaN</td>\n",
       "      <td>HR</td>\n",
       "      <td>NaN</td>\n",
       "      <td>NaN</td>\n",
       "      <td>NaN</td>\n",
       "      <td>NaN</td>\n",
       "    </tr>\n",
       "    <tr>\n",
       "      <th>6</th>\n",
       "      <td>George</td>\n",
       "      <td>154000.0</td>\n",
       "      <td>Finance</td>\n",
       "      <td>770000.0</td>\n",
       "      <td>NaN</td>\n",
       "      <td>NaN</td>\n",
       "      <td>NaN</td>\n",
       "    </tr>\n",
       "    <tr>\n",
       "      <th>7</th>\n",
       "      <td>Hannah</td>\n",
       "      <td>136000.0</td>\n",
       "      <td>Sales</td>\n",
       "      <td>680000.0</td>\n",
       "      <td>NaN</td>\n",
       "      <td>NaN</td>\n",
       "      <td>NaN</td>\n",
       "    </tr>\n",
       "  </tbody>\n",
       "</table>\n",
       "</div>"
      ],
      "text/plain": [
       "     name    salary   Department  Promoted Salary         dept       location  \\\n",
       "0   Alice  120000.0           HR         600000.0           HR       New York   \n",
       "1     Bob  140000.0  Engineering         700000.0  Engineering  San Francisco   \n",
       "2  Aditya  130000.0        Sales         650000.0        Sales        Chicago   \n",
       "3   Diana  170000.0    Marketing         850000.0    Marketing    Los Angeles   \n",
       "4   Ethan  180000.0  Engineering         900000.0      Finance         Boston   \n",
       "5   Fiona       NaN           HR              NaN          NaN            NaN   \n",
       "6  George  154000.0      Finance         770000.0          NaN            NaN   \n",
       "7  Hannah  136000.0        Sales         680000.0          NaN            NaN   \n",
       "\n",
       "        manager  \n",
       "0  Susan Miller  \n",
       "1     James Lee  \n",
       "2    Nina Patel  \n",
       "3  Carlos Gomez  \n",
       "4  Rachel Green  \n",
       "5           NaN  \n",
       "6           NaN  \n",
       "7           NaN  "
      ]
     },
     "execution_count": 79,
     "metadata": {},
     "output_type": "execute_result"
    }
   ],
   "source": [
    "pd.concat([df,df2],axis=1)\n"
   ]
  },
  {
   "cell_type": "code",
   "execution_count": null,
   "id": "aef16a35-b836-4d3b-af73-11f888d3ba7b",
   "metadata": {},
   "outputs": [],
   "source": [
    "#pd.read_csv()"
   ]
  }
 ],
 "metadata": {
  "kernelspec": {
   "display_name": "Python 3 (ipykernel)",
   "language": "python",
   "name": "python3"
  },
  "language_info": {
   "codemirror_mode": {
    "name": "ipython",
    "version": 3
   },
   "file_extension": ".py",
   "mimetype": "text/x-python",
   "name": "python",
   "nbconvert_exporter": "python",
   "pygments_lexer": "ipython3",
   "version": "3.11.4"
  }
 },
 "nbformat": 4,
 "nbformat_minor": 5
}
